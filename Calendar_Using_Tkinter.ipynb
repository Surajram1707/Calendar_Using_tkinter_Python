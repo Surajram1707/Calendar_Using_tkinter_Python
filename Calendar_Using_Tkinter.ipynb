{
 "cells": [
  {
   "cell_type": "code",
   "execution_count": 8,
   "metadata": {},
   "outputs": [
    {
     "data": {
      "text/plain": [
       "''"
      ]
     },
     "execution_count": 8,
     "metadata": {},
     "output_type": "execute_result"
    }
   ],
   "source": [
    "from tkinter import *\n",
    "import tkinter as tk\n",
    "from PIL import ImageTk,Image\n",
    "import calendar\n",
    "root = tk.Tk()\n",
    "root.geometry('400x300')\n",
    "root.title(\"Calendar\")\n"
   ]
  },
  {
   "cell_type": "code",
   "execution_count": 9,
   "metadata": {},
   "outputs": [],
   "source": [
    "def show():\n",
    "    m = int(month.get())\n",
    "    y = int(year.get())\n",
    "    output = calendar.month(y,m)\n",
    "    cal.insert('end',output)\n",
    "    \n",
    "def clear():\n",
    "    cal.delete(1.0,'end')\n",
    "def exit():\n",
    "    root.destroy()"
   ]
  },
  {
   "cell_type": "code",
   "execution_count": 10,
   "metadata": {},
   "outputs": [],
   "source": [
    "img = ImageTk.PhotoImage(Image.open('calendar.png'))\n",
    "root.iconbitmap('calendar.ico')\n",
    "label = Label(image=img)\n",
    "label.place(x=170,y=3)\n",
    "m_label=Label(root,text=\"Month\",font=('verdana',10,'bold'))\n",
    "m_label.place(x=70,y=80)\n",
    "month = Spinbox(root,from_=1,to=12,width=5)\n",
    "month.place(x=140,y=80)\n",
    "y_label=Label(root,text=\"Year\",font=('verdana',10,'bold'))\n",
    "y_label.place(x=210,y=80)\n",
    "year=Spinbox(root,from_=2000,to=3000,width=8)\n",
    "year.place(x=260,y=80)\n",
    "cal = Text(root,width=33,height=8,relief=RIDGE,borderwidth=2)\n",
    "cal.place(x=70,y=110)\n",
    "show = Button(root,text=\"Show\",font=('verdana',10,'bold'),relief=RIDGE,borderwidth=2,command=show)\n",
    "show.place(x=140,y=250)\n",
    "clear = Button(root,text=\"Clear\",font=('verdana',10,'bold'),relief=RIDGE,borderwidth=2,command=clear)\n",
    "clear.place(x=200,y=250)\n",
    "exit = Button(root,text=\"Exit\",font=('verdana',10,'bold'),relief=RIDGE,borderwidth=2,command=exit)\n",
    "exit.place(x=260,y=250)\n",
    "root.mainloop()\n",
    "\n"
   ]
  },
  {
   "cell_type": "code",
   "execution_count": null,
   "metadata": {},
   "outputs": [],
   "source": []
  },
  {
   "cell_type": "code",
   "execution_count": null,
   "metadata": {},
   "outputs": [],
   "source": []
  }
 ],
 "metadata": {
  "kernelspec": {
   "display_name": "Python 3",
   "language": "python",
   "name": "python3"
  },
  "language_info": {
   "codemirror_mode": {
    "name": "ipython",
    "version": 3
   },
   "file_extension": ".py",
   "mimetype": "text/x-python",
   "name": "python",
   "nbconvert_exporter": "python",
   "pygments_lexer": "ipython3",
   "version": "3.7.3"
  }
 },
 "nbformat": 4,
 "nbformat_minor": 2
}
